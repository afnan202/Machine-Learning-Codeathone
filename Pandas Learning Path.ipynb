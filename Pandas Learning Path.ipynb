{
 "cells": [
  {
   "cell_type": "code",
   "execution_count": null,
   "metadata": {},
   "outputs": [],
   "source": [
    "#Reading CSV file\n",
    "import numpy as np\n",
    "import pandas as pd\n",
    "import matplotlib as mplt\n",
    "df = pd.read_csv(\"C:\\\\Users\\\\ASUS\\\\Downloads\\\\Dataset of exploratory data analysis.csv\")\n",
    "print(df.head())"
   ]
  },
  {
   "cell_type": "code",
   "execution_count": null,
   "metadata": {},
   "outputs": [],
   "source": [
    "#taking user input dictionary and making two dimensional dataframe and printing version of pandas\n",
    "import numpy as np\n",
    "import pandas as pd\n",
    "\n",
    "My_var = { 'Name': [\"Afnan\", \"Naima\", \"Nafi\", \"Mirza\", \"Anis\" , \"Hasin\" , \"Sonia\" , \"Nasir\"], 'Age': [34,30,14,50,64,52,42,58]}\n",
    "df = pd.DataFrame(My_var)\n",
    "print(df)\n",
    "print(pd.__version__)"
   ]
  },
  {
   "cell_type": "code",
   "execution_count": null,
   "metadata": {},
   "outputs": [],
   "source": [
    "#Pandas is classified into two types. They are 1. Data series and  2. Data frame\n",
    "import numpy as np\n",
    "import pandas as pd\n",
    "A = [\"Mirza\", \"Afnan\", \"Islam\"]\n",
    "print(pd.Series(A))"
   ]
  },
  {
   "cell_type": "code",
   "execution_count": null,
   "metadata": {},
   "outputs": [],
   "source": [
    "#Dtaframe head returns the top five rows of dataset.\n",
    "import numpy as np\n",
    "import pandas as pd\n",
    "df = pd.read_csv(\"C:\\\\Users\\\\ASUS\\\\Downloads\\\\Dataset of exploratory data analysis.csv\")\n",
    "print(df.head())\n",
    "print('\\n This is the top five head info')"
   ]
  },
  {
   "cell_type": "code",
   "execution_count": null,
   "metadata": {},
   "outputs": [],
   "source": [
    "#Dataframe specified head returns the top n rows of dataset.\n",
    "import numpy as np\n",
    "import pandas as pd\n",
    "df = pd.read_csv(\"C:\\\\Users\\\\ASUS\\\\Downloads\\\\Dataset of exploratory data analysis.csv\")\n",
    "print(df.head(10))\n",
    "print('\\n This is the top ten head info')"
   ]
  },
  {
   "cell_type": "code",
   "execution_count": null,
   "metadata": {},
   "outputs": [],
   "source": [
    "#Printing the strings with indexing format \n",
    "import numpy as np\n",
    "import pandas as pd\n",
    "My_var = [ \"Mirza\", \"Afnan\" , \"Islam\" ]\n",
    "print(pd.Series(My_var, index = [\"First Name\" , \"Middle Name\", \"Final Name\" ]))"
   ]
  },
  {
   "cell_type": "code",
   "execution_count": null,
   "metadata": {},
   "outputs": [],
   "source": [
    "#Working with multiple column data with a series function and indexing\n",
    "import numpy as np\n",
    "import pandas as pd\n",
    "A = [\"Nafis Al Fuad\", \"30\", \"Male\"]\n",
    "B = [\"Saleha Khatun\", \"27\" , \"Female\"]\n",
    "print(pd.Series(A, index=[\"Name\", \"Age\" , \"Sex\"]))\n",
    "print(pd.Series(B, index=[\"Name\", \"Age\" , \"Sex\"]))"
   ]
  },
  {
   "cell_type": "code",
   "execution_count": null,
   "metadata": {},
   "outputs": [],
   "source": [
    "#Working with multiple column data with a dataframe function and indexing\n",
    "import numpy as np\n",
    "import pandas as pd\n",
    "print(pd.DataFrame([[30,21],[40,20]],columns=[\"Apple\",\"Orange\"], index=[\"Number of Sell in Monday\",\"Number of sell in Tuesday\"]))"
   ]
  },
  {
   "cell_type": "code",
   "execution_count": null,
   "metadata": {},
   "outputs": [],
   "source": [
    "#Converting multidimensional dataframe into one dimensional series using loc[] method\n",
    "import numpy as np\n",
    "import pandas as pd\n",
    "df = pd.DataFrame([[20,21],[40,52]], columns=[\"Orange\",\"Apple\"], index=[\"Tuesday\",\"Wednesday\"])\n",
    "print(df)\n",
    "print(df.loc['Tuesday'])"
   ]
  },
  {
   "cell_type": "code",
   "execution_count": null,
   "metadata": {},
   "outputs": [],
   "source": [
    "#printing Dataframe shape and head and tail rows\n",
    "import numpy as np\n",
    "import pandas as pd\n",
    "df = pd.read_csv(\"d:\\\\Machine Learning\\\\Dataset of exploratory data analysis.csv\")\n",
    "print(df.head)\n",
    "print(df.tail)\n",
    "print(df.shape)"
   ]
  }
 ],
 "metadata": {
  "kernelspec": {
   "display_name": "Python 3",
   "language": "python",
   "name": "python3"
  },
  "language_info": {
   "codemirror_mode": {
    "name": "ipython",
    "version": 3
   },
   "file_extension": ".py",
   "mimetype": "text/x-python",
   "name": "python",
   "nbconvert_exporter": "python",
   "pygments_lexer": "ipython3",
   "version": "3.12.4"
  }
 },
 "nbformat": 4,
 "nbformat_minor": 2
}
