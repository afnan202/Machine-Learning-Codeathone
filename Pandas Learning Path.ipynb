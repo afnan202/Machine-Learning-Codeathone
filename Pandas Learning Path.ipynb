{
 "cells": [
  {
   "cell_type": "code",
   "execution_count": null,
   "metadata": {},
   "outputs": [],
   "source": [
    "#Reading CSV file\n",
    "import numpy as np\n",
    "import pandas as pd\n",
    "import matplotlib as mplt\n",
    "df = pd.read_csv(\"C:\\\\Users\\\\ASUS\\\\Downloads\\\\Dataset of exploratory data analysis.csv\")\n",
    "print(df.head())"
   ]
  },
  {
   "cell_type": "code",
   "execution_count": null,
   "metadata": {},
   "outputs": [],
   "source": [
    "#taking user input dictionary and making two dimensional dataframe\n",
    "import numpy as np\n",
    "import pandas as pd\n",
    "\n",
    "My_var = { 'Name': [\"Afnan\", \"Naima\", \"Nafi\", \"Mirza\", \"Anis\" , \"Hasin\" , \"Sonia\" , \"Nasir\"], 'Age': [34,30,14,50,64,52,42,58]}\n",
    "df = pd.DataFrame(My_var)\n",
    "print(df)\n",
    "print(pd.__version__)"
   ]
  },
  {
   "cell_type": "code",
   "execution_count": null,
   "metadata": {},
   "outputs": [],
   "source": [
    "#Pandas is classified into two types. They are 1. Data series and  2. Data frame\n",
    "import numpy as np\n",
    "import pandas as pd\n",
    "A = [\"Mirza\", \"Afnan\", \"Islam\"]\n",
    "print(pd.Series(A))"
   ]
  },
  {
   "cell_type": "code",
   "execution_count": null,
   "metadata": {},
   "outputs": [],
   "source": [
    "#Dtaframe head returns the top five rows of dataset.\n",
    "import numpy as np\n",
    "import pandas as pd\n",
    "df = pd.read_csv(\"C:\\\\Users\\\\ASUS\\\\Downloads\\\\Dataset of exploratory data analysis.csv\")\n",
    "print(df.head())\n",
    "print('\\n This is the top five head info')"
   ]
  },
  {
   "cell_type": "code",
   "execution_count": 20,
   "metadata": {},
   "outputs": [
    {
     "name": "stdout",
     "output_type": "stream",
     "text": [
      "   age         workclass  fnlwgt  education  education-num  \\\n",
      "0   39         State-gov   77516  Bachelors             13   \n",
      "1   50  Self-emp-not-inc   83311  Bachelors             13   \n",
      "2   38           Private  215646    HS-grad              9   \n",
      "3   53           Private  234721       11th              7   \n",
      "4   28           Private  338409  Bachelors             13   \n",
      "5   37           Private  284582    Masters             14   \n",
      "6   49           Private  160187        9th              5   \n",
      "7   52  Self-emp-not-inc  209642    HS-grad              9   \n",
      "8   31           Private   45781    Masters             14   \n",
      "9   42           Private  159449  Bachelors             13   \n",
      "\n",
      "          marital-status         occupation   relationship   race     sex  \\\n",
      "0          Never-married       Adm-clerical  Not-in-family  White    Male   \n",
      "1     Married-civ-spouse    Exec-managerial        Husband  White    Male   \n",
      "2               Divorced  Handlers-cleaners  Not-in-family  White    Male   \n",
      "3     Married-civ-spouse  Handlers-cleaners        Husband  Black    Male   \n",
      "4     Married-civ-spouse     Prof-specialty           Wife  Black  Female   \n",
      "5     Married-civ-spouse    Exec-managerial           Wife  White  Female   \n",
      "6  Married-spouse-absent      Other-service  Not-in-family  Black  Female   \n",
      "7     Married-civ-spouse    Exec-managerial        Husband  White    Male   \n",
      "8          Never-married     Prof-specialty  Not-in-family  White  Female   \n",
      "9     Married-civ-spouse    Exec-managerial        Husband  White    Male   \n",
      "\n",
      "   capital-gain  capital-loss  hours-per-week native-country salary  \n",
      "0          2174             0              40  United-States  <=50K  \n",
      "1             0             0              13  United-States  <=50K  \n",
      "2             0             0              40  United-States  <=50K  \n",
      "3             0             0              40  United-States  <=50K  \n",
      "4             0             0              40           Cuba  <=50K  \n",
      "5             0             0              40  United-States  <=50K  \n",
      "6             0             0              16        Jamaica  <=50K  \n",
      "7             0             0              45  United-States   >50K  \n",
      "8         14084             0              50  United-States   >50K  \n",
      "9          5178             0              40  United-States   >50K  \n",
      "\n",
      " This is the top ten head info\n"
     ]
    }
   ],
   "source": [
    "#Dataframe specified head returns the top n rows of dataset.\n",
    "import numpy as np\n",
    "import pandas as pd\n",
    "df = pd.read_csv(\"C:\\\\Users\\\\ASUS\\\\Downloads\\\\Dataset of exploratory data analysis.csv\")\n",
    "print(df.head(10))\n",
    "print('\\n This is the top ten head info')"
   ]
  }
 ],
 "metadata": {
  "kernelspec": {
   "display_name": "Python 3",
   "language": "python",
   "name": "python3"
  },
  "language_info": {
   "codemirror_mode": {
    "name": "ipython",
    "version": 3
   },
   "file_extension": ".py",
   "mimetype": "text/x-python",
   "name": "python",
   "nbconvert_exporter": "python",
   "pygments_lexer": "ipython3",
   "version": "3.12.4"
  }
 },
 "nbformat": 4,
 "nbformat_minor": 2
}
