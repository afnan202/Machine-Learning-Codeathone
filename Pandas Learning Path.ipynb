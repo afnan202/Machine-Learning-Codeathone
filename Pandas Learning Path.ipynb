{
 "cells": [
  {
   "cell_type": "code",
   "execution_count": null,
   "metadata": {},
   "outputs": [],
   "source": [
    "import numpy as np\n",
    "import pandas as pd\n",
    "import matplotlib as mplt\n",
    "df = pd.read_csv(\"C:\\\\Users\\\\ASUS\\\\Downloads\\\\Dataset of exploratory data analysis.csv\")\n",
    "print(df.head())"
   ]
  }
 ],
 "metadata": {
  "language_info": {
   "name": "python"
  }
 },
 "nbformat": 4,
 "nbformat_minor": 2
}
