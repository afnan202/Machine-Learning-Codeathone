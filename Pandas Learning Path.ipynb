{
 "cells": [
  {
   "cell_type": "code",
   "execution_count": null,
   "metadata": {},
   "outputs": [],
   "source": [
    "#Reading CSV file\n",
    "import numpy as np\n",
    "import pandas as pd\n",
    "import matplotlib as mplt\n",
    "df = pd.read_csv(\"C:\\\\Users\\\\ASUS\\\\Downloads\\\\Dataset of exploratory data analysis.csv\")\n",
    "print(df.head())"
   ]
  },
  {
   "cell_type": "code",
   "execution_count": null,
   "metadata": {},
   "outputs": [],
   "source": [
    "#taking user input dictionary and making two dimensional dataframe and printing version of pandas\n",
    "import numpy as np\n",
    "import pandas as pd\n",
    "\n",
    "My_var = { 'Name': [\"Afnan\", \"Naima\", \"Nafi\", \"Mirza\", \"Anis\" , \"Hasin\" , \"Sonia\" , \"Nasir\"], 'Age': [34,30,14,50,64,52,42,58]}\n",
    "df = pd.DataFrame(My_var)\n",
    "print(df)\n",
    "print(pd.__version__)"
   ]
  },
  {
   "cell_type": "code",
   "execution_count": null,
   "metadata": {},
   "outputs": [],
   "source": [
    "#Pandas is classified into two types. They are 1. Data series and  2. Data frame\n",
    "import numpy as np\n",
    "import pandas as pd\n",
    "A = [\"Mirza\", \"Afnan\", \"Islam\"]\n",
    "print(pd.Series(A))"
   ]
  },
  {
   "cell_type": "code",
   "execution_count": null,
   "metadata": {},
   "outputs": [],
   "source": [
    "#Dtaframe head returns the top five rows of dataset.\n",
    "import numpy as np\n",
    "import pandas as pd\n",
    "df = pd.read_csv(\"C:\\\\Users\\\\ASUS\\\\Downloads\\\\Dataset of exploratory data analysis.csv\")\n",
    "print(df.head())\n",
    "print('\\n This is the top five head info')"
   ]
  },
  {
   "cell_type": "code",
   "execution_count": null,
   "metadata": {},
   "outputs": [],
   "source": [
    "#Dataframe specified head returns the top n rows of dataset.\n",
    "import numpy as np\n",
    "import pandas as pd\n",
    "df = pd.read_csv(\"C:\\\\Users\\\\ASUS\\\\Downloads\\\\Dataset of exploratory data analysis.csv\")\n",
    "print(df.head(10))\n",
    "print('\\n This is the top ten head info')"
   ]
  },
  {
   "cell_type": "code",
   "execution_count": null,
   "metadata": {},
   "outputs": [],
   "source": [
    "#Printing the strings with indexing format \n",
    "import numpy as np\n",
    "import pandas as pd\n",
    "My_var = [ \"Mirza\", \"Afnan\" , \"Islam\" ]\n",
    "print(pd.Series(My_var, index = [\"First Name\" , \"Middle Name\", \"Final Name\" ]))"
   ]
  },
  {
   "cell_type": "code",
   "execution_count": null,
   "metadata": {},
   "outputs": [],
   "source": [
    "#Working with multiple column data with a series function and indexing\n",
    "import numpy as np\n",
    "import pandas as pd\n",
    "A = [\"Nafis Al Fuad\", \"30\", \"Male\"]\n",
    "B = [\"Saleha Khatun\", \"27\" , \"Female\"]\n",
    "print(pd.Series(A, index=[\"Name\", \"Age\" , \"Sex\"]))\n",
    "print(pd.Series(B, index=[\"Name\", \"Age\" , \"Sex\"]))"
   ]
  },
  {
   "cell_type": "code",
   "execution_count": null,
   "metadata": {},
   "outputs": [],
   "source": [
    "#Working with multiple column data with a dataframe function and indexing\n",
    "import numpy as np\n",
    "import pandas as pd\n",
    "print(pd.DataFrame([[30,21],[40,20]],columns=[\"Apple\",\"Orange\"], index=[\"Number of Sell in Monday\",\"Number of sell in Tuesday\"]))"
   ]
  },
  {
   "cell_type": "code",
   "execution_count": null,
   "metadata": {},
   "outputs": [],
   "source": [
    "#Converting multidimensional dataframe into one dimensional series using loc[] method\n",
    "import numpy as np\n",
    "import pandas as pd\n",
    "df = pd.DataFrame([[20,21],[40,52]], columns=[\"Orange\",\"Apple\"], index=[\"Tuesday\",\"Wednesday\"])\n",
    "print(df)\n",
    "print(df.loc['Tuesday'])"
   ]
  },
  {
   "cell_type": "code",
   "execution_count": null,
   "metadata": {},
   "outputs": [],
   "source": [
    "#printing Dataframe shape and head and tail rows\n",
    "import numpy as np\n",
    "import pandas as pd\n",
    "df = pd.read_csv(\"d:\\\\Machine Learning\\\\Dataset of exploratory data analysis.csv\")\n",
    "print(df.head)\n",
    "print(df.tail)\n",
    "print(df.shape)"
   ]
  },
  {
   "cell_type": "code",
   "execution_count": null,
   "metadata": {},
   "outputs": [
    {
     "name": "stdout",
     "output_type": "stream",
     "text": [
      "60\n",
      "<bound method DataFrame.to_string of        age         workclass  fnlwgt   education  education-num  \\\n",
      "0       39         State-gov   77516   Bachelors             13   \n",
      "1       50  Self-emp-not-inc   83311   Bachelors             13   \n",
      "2       38           Private  215646     HS-grad              9   \n",
      "3       53           Private  234721        11th              7   \n",
      "4       28           Private  338409   Bachelors             13   \n",
      "...    ...               ...     ...         ...            ...   \n",
      "32556   27           Private  257302  Assoc-acdm             12   \n",
      "32557   40           Private  154374     HS-grad              9   \n",
      "32558   58           Private  151910     HS-grad              9   \n",
      "32559   22           Private  201490     HS-grad              9   \n",
      "32560   52      Self-emp-inc  287927     HS-grad              9   \n",
      "\n",
      "           marital-status         occupation   relationship   race     sex  \\\n",
      "0           Never-married       Adm-clerical  Not-in-family  White    Male   \n",
      "1      Married-civ-spouse    Exec-managerial        Husband  White    Male   \n",
      "2                Divorced  Handlers-cleaners  Not-in-family  White    Male   \n",
      "3      Married-civ-spouse  Handlers-cleaners        Husband  Black    Male   \n",
      "4      Married-civ-spouse     Prof-specialty           Wife  Black  Female   \n",
      "...                   ...                ...            ...    ...     ...   \n",
      "32556  Married-civ-spouse       Tech-support           Wife  White  Female   \n",
      "32557  Married-civ-spouse  Machine-op-inspct        Husband  White    Male   \n",
      "32558             Widowed       Adm-clerical      Unmarried  White  Female   \n",
      "32559       Never-married       Adm-clerical      Own-child  White    Male   \n",
      "32560  Married-civ-spouse    Exec-managerial           Wife  White  Female   \n",
      "\n",
      "       capital-gain  capital-loss  hours-per-week native-country salary  \n",
      "0              2174             0              40  United-States  <=50K  \n",
      "1                 0             0              13  United-States  <=50K  \n",
      "2                 0             0              40  United-States  <=50K  \n",
      "3                 0             0              40  United-States  <=50K  \n",
      "4                 0             0              40           Cuba  <=50K  \n",
      "...             ...           ...             ...            ...    ...  \n",
      "32556             0             0              38  United-States  <=50K  \n",
      "32557             0             0              40  United-States   >50K  \n",
      "32558             0             0              40  United-States  <=50K  \n",
      "32559             0             0              20  United-States  <=50K  \n",
      "32560         15024             0              40  United-States   >50K  \n",
      "\n",
      "[32561 rows x 15 columns]>\n"
     ]
    }
   ],
   "source": [
    "#printing the number of maximum rows\n",
    "import numpy as np\n",
    "import pandas as pd\n",
    "df = pd.read_csv(\"d:\\\\Machine Learning\\\\Dataset of exploratory data analysis.csv\")\n",
    "print(pd.options.display.max_rows)\n",
    "#printing how many number of excel rows can the console print\n",
    "print(df.to_string)"
   ]
  }
 ],
 "metadata": {
  "kernelspec": {
   "display_name": "Python 3",
   "language": "python",
   "name": "python3"
  },
  "language_info": {
   "codemirror_mode": {
    "name": "ipython",
    "version": 3
   },
   "file_extension": ".py",
   "mimetype": "text/x-python",
   "name": "python",
   "nbconvert_exporter": "python",
   "pygments_lexer": "ipython3",
   "version": "3.12.4"
  }
 },
 "nbformat": 4,
 "nbformat_minor": 2
}
